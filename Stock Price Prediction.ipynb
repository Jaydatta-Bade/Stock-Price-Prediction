{
 "cells": [
  {
   "cell_type": "markdown",
   "metadata": {},
   "source": [
    "### Stock Market Prediction And Forecasting Using Stacked LSTM\n",
    "\n",
    "#### Steps\n",
    "- collect the stock data\n",
    "- preprocess the data - Train and test\n",
    "- create a n stacked LSTM model\n",
    "- predict test data and plot the output\n",
    "- predict future 10 days and plot output"
   ]
  },
  {
   "cell_type": "code",
   "execution_count": 2,
   "metadata": {},
   "outputs": [],
   "source": [
    "# importing required packages\n",
    "import quandl\n",
    "import numpy as np\n",
    "import pandas as pd\n",
    "from datetime import date\n",
    "import matplotlib.pyplot as plt\n",
    "%matplotlib inline"
   ]
  },
  {
   "cell_type": "markdown",
   "metadata": {},
   "source": [
    "### collect the stock data"
   ]
  },
  {
   "cell_type": "code",
   "execution_count": 3,
   "metadata": {},
   "outputs": [],
   "source": [
    "# Configuring API key\n",
    "quandl.ApiConfig.api_key = (\"r-xr_5our2c42cyF_RWZ\")"
   ]
  },
  {
   "cell_type": "code",
   "execution_count": 4,
   "metadata": {},
   "outputs": [
    {
     "data": {
      "text/html": [
       "<div>\n",
       "<style scoped>\n",
       "    .dataframe tbody tr th:only-of-type {\n",
       "        vertical-align: middle;\n",
       "    }\n",
       "\n",
       "    .dataframe tbody tr th {\n",
       "        vertical-align: top;\n",
       "    }\n",
       "\n",
       "    .dataframe thead th {\n",
       "        text-align: right;\n",
       "    }\n",
       "</style>\n",
       "<table border=\"1\" class=\"dataframe\">\n",
       "  <thead>\n",
       "    <tr style=\"text-align: right;\">\n",
       "      <th></th>\n",
       "      <th>Open</th>\n",
       "      <th>High</th>\n",
       "      <th>Low</th>\n",
       "      <th>Close</th>\n",
       "      <th>WAP</th>\n",
       "      <th>No. of Shares</th>\n",
       "      <th>No. of Trades</th>\n",
       "      <th>Total Turnover</th>\n",
       "      <th>Deliverable Quantity</th>\n",
       "      <th>% Deli. Qty to Traded Qty</th>\n",
       "      <th>Spread H-L</th>\n",
       "      <th>Spread C-O</th>\n",
       "    </tr>\n",
       "    <tr>\n",
       "      <th>Date</th>\n",
       "      <th></th>\n",
       "      <th></th>\n",
       "      <th></th>\n",
       "      <th></th>\n",
       "      <th></th>\n",
       "      <th></th>\n",
       "      <th></th>\n",
       "      <th></th>\n",
       "      <th></th>\n",
       "      <th></th>\n",
       "      <th></th>\n",
       "      <th></th>\n",
       "    </tr>\n",
       "  </thead>\n",
       "  <tbody>\n",
       "    <tr>\n",
       "      <th>1995-05-05</th>\n",
       "      <td>177.0</td>\n",
       "      <td>178.0</td>\n",
       "      <td>174.0</td>\n",
       "      <td>175.0</td>\n",
       "      <td>0.0</td>\n",
       "      <td>0.0</td>\n",
       "      <td>0.0</td>\n",
       "      <td>0.0</td>\n",
       "      <td>NaN</td>\n",
       "      <td>NaN</td>\n",
       "      <td>4.0</td>\n",
       "      <td>-2.0</td>\n",
       "    </tr>\n",
       "    <tr>\n",
       "      <th>1995-05-08</th>\n",
       "      <td>172.0</td>\n",
       "      <td>174.0</td>\n",
       "      <td>172.0</td>\n",
       "      <td>172.0</td>\n",
       "      <td>0.0</td>\n",
       "      <td>0.0</td>\n",
       "      <td>0.0</td>\n",
       "      <td>0.0</td>\n",
       "      <td>NaN</td>\n",
       "      <td>NaN</td>\n",
       "      <td>2.0</td>\n",
       "      <td>0.0</td>\n",
       "    </tr>\n",
       "    <tr>\n",
       "      <th>1995-05-09</th>\n",
       "      <td>174.0</td>\n",
       "      <td>174.0</td>\n",
       "      <td>170.0</td>\n",
       "      <td>172.0</td>\n",
       "      <td>0.0</td>\n",
       "      <td>0.0</td>\n",
       "      <td>0.0</td>\n",
       "      <td>0.0</td>\n",
       "      <td>NaN</td>\n",
       "      <td>NaN</td>\n",
       "      <td>4.0</td>\n",
       "      <td>-2.0</td>\n",
       "    </tr>\n",
       "    <tr>\n",
       "      <th>1995-05-10</th>\n",
       "      <td>171.0</td>\n",
       "      <td>172.0</td>\n",
       "      <td>170.0</td>\n",
       "      <td>171.0</td>\n",
       "      <td>0.0</td>\n",
       "      <td>0.0</td>\n",
       "      <td>0.0</td>\n",
       "      <td>0.0</td>\n",
       "      <td>NaN</td>\n",
       "      <td>NaN</td>\n",
       "      <td>2.0</td>\n",
       "      <td>0.0</td>\n",
       "    </tr>\n",
       "    <tr>\n",
       "      <th>1995-05-12</th>\n",
       "      <td>169.0</td>\n",
       "      <td>171.0</td>\n",
       "      <td>167.0</td>\n",
       "      <td>171.0</td>\n",
       "      <td>0.0</td>\n",
       "      <td>0.0</td>\n",
       "      <td>0.0</td>\n",
       "      <td>0.0</td>\n",
       "      <td>NaN</td>\n",
       "      <td>NaN</td>\n",
       "      <td>4.0</td>\n",
       "      <td>2.0</td>\n",
       "    </tr>\n",
       "  </tbody>\n",
       "</table>\n",
       "</div>"
      ],
      "text/plain": [
       "             Open   High    Low  Close  WAP  No. of Shares  No. of Trades  \\\n",
       "Date                                                                        \n",
       "1995-05-05  177.0  178.0  174.0  175.0  0.0            0.0            0.0   \n",
       "1995-05-08  172.0  174.0  172.0  172.0  0.0            0.0            0.0   \n",
       "1995-05-09  174.0  174.0  170.0  172.0  0.0            0.0            0.0   \n",
       "1995-05-10  171.0  172.0  170.0  171.0  0.0            0.0            0.0   \n",
       "1995-05-12  169.0  171.0  167.0  171.0  0.0            0.0            0.0   \n",
       "\n",
       "            Total Turnover  Deliverable Quantity  % Deli. Qty to Traded Qty  \\\n",
       "Date                                                                          \n",
       "1995-05-05             0.0                   NaN                        NaN   \n",
       "1995-05-08             0.0                   NaN                        NaN   \n",
       "1995-05-09             0.0                   NaN                        NaN   \n",
       "1995-05-10             0.0                   NaN                        NaN   \n",
       "1995-05-12             0.0                   NaN                        NaN   \n",
       "\n",
       "            Spread H-L  Spread C-O  \n",
       "Date                                \n",
       "1995-05-05         4.0        -2.0  \n",
       "1995-05-08         2.0         0.0  \n",
       "1995-05-09         4.0        -2.0  \n",
       "1995-05-10         2.0         0.0  \n",
       "1995-05-12         4.0         2.0  "
      ]
     },
     "execution_count": 4,
     "metadata": {},
     "output_type": "execute_result"
    }
   ],
   "source": [
    "# We use the get() function to fetch the historical stock price data for sbi\n",
    "sbi = quandl.get(\"BSE/BOM500112\")\n",
    "sbi.head()"
   ]
  },
  {
   "cell_type": "code",
   "execution_count": 5,
   "metadata": {},
   "outputs": [
    {
     "data": {
      "text/html": [
       "<div>\n",
       "<style scoped>\n",
       "    .dataframe tbody tr th:only-of-type {\n",
       "        vertical-align: middle;\n",
       "    }\n",
       "\n",
       "    .dataframe tbody tr th {\n",
       "        vertical-align: top;\n",
       "    }\n",
       "\n",
       "    .dataframe thead th {\n",
       "        text-align: right;\n",
       "    }\n",
       "</style>\n",
       "<table border=\"1\" class=\"dataframe\">\n",
       "  <thead>\n",
       "    <tr style=\"text-align: right;\">\n",
       "      <th></th>\n",
       "      <th>Open</th>\n",
       "      <th>High</th>\n",
       "      <th>Low</th>\n",
       "      <th>Close</th>\n",
       "      <th>WAP</th>\n",
       "      <th>No. of Shares</th>\n",
       "      <th>No. of Trades</th>\n",
       "      <th>Total Turnover</th>\n",
       "      <th>Deliverable Quantity</th>\n",
       "      <th>% Deli. Qty to Traded Qty</th>\n",
       "      <th>Spread H-L</th>\n",
       "      <th>Spread C-O</th>\n",
       "    </tr>\n",
       "    <tr>\n",
       "      <th>Date</th>\n",
       "      <th></th>\n",
       "      <th></th>\n",
       "      <th></th>\n",
       "      <th></th>\n",
       "      <th></th>\n",
       "      <th></th>\n",
       "      <th></th>\n",
       "      <th></th>\n",
       "      <th></th>\n",
       "      <th></th>\n",
       "      <th></th>\n",
       "      <th></th>\n",
       "    </tr>\n",
       "  </thead>\n",
       "  <tbody>\n",
       "    <tr>\n",
       "      <th>2022-11-03</th>\n",
       "      <td>568.8</td>\n",
       "      <td>587.90</td>\n",
       "      <td>568.80</td>\n",
       "      <td>584.80</td>\n",
       "      <td>581.75</td>\n",
       "      <td>777934.0</td>\n",
       "      <td>15403.0</td>\n",
       "      <td>4.525660e+08</td>\n",
       "      <td>318196.0</td>\n",
       "      <td>40.90</td>\n",
       "      <td>19.10</td>\n",
       "      <td>16.00</td>\n",
       "    </tr>\n",
       "    <tr>\n",
       "      <th>2022-11-04</th>\n",
       "      <td>586.0</td>\n",
       "      <td>596.75</td>\n",
       "      <td>580.60</td>\n",
       "      <td>593.75</td>\n",
       "      <td>587.88</td>\n",
       "      <td>797243.0</td>\n",
       "      <td>12564.0</td>\n",
       "      <td>4.686870e+08</td>\n",
       "      <td>282169.0</td>\n",
       "      <td>35.39</td>\n",
       "      <td>16.15</td>\n",
       "      <td>7.75</td>\n",
       "    </tr>\n",
       "    <tr>\n",
       "      <th>2022-11-07</th>\n",
       "      <td>614.0</td>\n",
       "      <td>622.90</td>\n",
       "      <td>607.85</td>\n",
       "      <td>614.20</td>\n",
       "      <td>616.17</td>\n",
       "      <td>1680075.0</td>\n",
       "      <td>27538.0</td>\n",
       "      <td>1.035208e+09</td>\n",
       "      <td>542751.0</td>\n",
       "      <td>32.31</td>\n",
       "      <td>15.05</td>\n",
       "      <td>0.20</td>\n",
       "    </tr>\n",
       "    <tr>\n",
       "      <th>2022-11-09</th>\n",
       "      <td>620.0</td>\n",
       "      <td>620.55</td>\n",
       "      <td>610.70</td>\n",
       "      <td>615.55</td>\n",
       "      <td>615.34</td>\n",
       "      <td>935161.0</td>\n",
       "      <td>18761.0</td>\n",
       "      <td>5.754445e+08</td>\n",
       "      <td>326973.0</td>\n",
       "      <td>34.96</td>\n",
       "      <td>9.85</td>\n",
       "      <td>-4.45</td>\n",
       "    </tr>\n",
       "    <tr>\n",
       "      <th>2022-11-10</th>\n",
       "      <td>610.1</td>\n",
       "      <td>615.00</td>\n",
       "      <td>602.20</td>\n",
       "      <td>605.70</td>\n",
       "      <td>607.25</td>\n",
       "      <td>605727.0</td>\n",
       "      <td>14367.0</td>\n",
       "      <td>3.678298e+08</td>\n",
       "      <td>204282.0</td>\n",
       "      <td>33.72</td>\n",
       "      <td>12.80</td>\n",
       "      <td>-4.40</td>\n",
       "    </tr>\n",
       "  </tbody>\n",
       "</table>\n",
       "</div>"
      ],
      "text/plain": [
       "             Open    High     Low   Close     WAP  No. of Shares  \\\n",
       "Date                                                               \n",
       "2022-11-03  568.8  587.90  568.80  584.80  581.75       777934.0   \n",
       "2022-11-04  586.0  596.75  580.60  593.75  587.88       797243.0   \n",
       "2022-11-07  614.0  622.90  607.85  614.20  616.17      1680075.0   \n",
       "2022-11-09  620.0  620.55  610.70  615.55  615.34       935161.0   \n",
       "2022-11-10  610.1  615.00  602.20  605.70  607.25       605727.0   \n",
       "\n",
       "            No. of Trades  Total Turnover  Deliverable Quantity  \\\n",
       "Date                                                              \n",
       "2022-11-03        15403.0    4.525660e+08              318196.0   \n",
       "2022-11-04        12564.0    4.686870e+08              282169.0   \n",
       "2022-11-07        27538.0    1.035208e+09              542751.0   \n",
       "2022-11-09        18761.0    5.754445e+08              326973.0   \n",
       "2022-11-10        14367.0    3.678298e+08              204282.0   \n",
       "\n",
       "            % Deli. Qty to Traded Qty  Spread H-L  Spread C-O  \n",
       "Date                                                           \n",
       "2022-11-03                      40.90       19.10       16.00  \n",
       "2022-11-04                      35.39       16.15        7.75  \n",
       "2022-11-07                      32.31       15.05        0.20  \n",
       "2022-11-09                      34.96        9.85       -4.45  \n",
       "2022-11-10                      33.72       12.80       -4.40  "
      ]
     },
     "execution_count": 5,
     "metadata": {},
     "output_type": "execute_result"
    }
   ],
   "source": [
    "sbi.tail()"
   ]
  },
  {
   "cell_type": "code",
   "execution_count": 10,
   "metadata": {},
   "outputs": [
    {
     "data": {
      "text/plain": [
       "0       175.00\n",
       "1       172.00\n",
       "2       172.00\n",
       "3       171.00\n",
       "4       171.00\n",
       "         ...  \n",
       "6810    584.80\n",
       "6811    593.75\n",
       "6812    614.20\n",
       "6813    615.55\n",
       "6814    605.70\n",
       "Name: Close, Length: 6815, dtype: float64"
      ]
     },
     "execution_count": 10,
     "metadata": {},
     "output_type": "execute_result"
    }
   ],
   "source": [
    "# as we are oly interested in closing price we only keep date and close price columns\\\n",
    "df_sbi = sbi.reset_index()['Close']\n",
    "df_sbi"
   ]
  },
  {
   "cell_type": "markdown",
   "metadata": {},
   "source": [
    "### Preprocess the data"
   ]
  },
  {
   "cell_type": "code",
   "execution_count": 11,
   "metadata": {},
   "outputs": [
    {
     "name": "stdout",
     "output_type": "stream",
     "text": [
      "Shape of data  (6815,)\n"
     ]
    }
   ],
   "source": [
    "print(\"Shape of data \", df_sbi.shape)"
   ]
  },
  {
   "cell_type": "code",
   "execution_count": 12,
   "metadata": {},
   "outputs": [
    {
     "data": {
      "text/plain": [
       "0"
      ]
     },
     "execution_count": 12,
     "metadata": {},
     "output_type": "execute_result"
    }
   ],
   "source": [
    "df_sbi.isnull().sum()"
   ]
  },
  {
   "cell_type": "code",
   "execution_count": 13,
   "metadata": {},
   "outputs": [
    {
     "data": {
      "text/plain": [
       "<AxesSubplot:>"
      ]
     },
     "execution_count": 13,
     "metadata": {},
     "output_type": "execute_result"
    },
    {
     "data": {
      "image/png": "[encoded data removed]",
      "text/plain": [
       "<Figure size 432x288 with 1 Axes>"
      ]
     },
     "metadata": {
      "needs_background": "light"
     },
     "output_type": "display_data"
    }
   ],
   "source": [
    "## the data looks seasonal\n",
    "df_sbi.plot()"
   ]
  },
  {
   "cell_type": "code",
   "execution_count": 14,
   "metadata": {},
   "outputs": [],
   "source": [
    "### LSTM are sensitive to the scale of the data. so we apply MinMax scaler \n",
    "from sklearn.preprocessing import MinMaxScaler\n",
    "scaler=MinMaxScaler(feature_range=(0,1))\n",
    "df_sbi=scaler.fit_transform(np.array(df_sbi).reshape(-1,1))"
   ]
  },
  {
   "cell_type": "code",
   "execution_count": 15,
   "metadata": {},
   "outputs": [
    {
     "data": {
      "text/plain": [
       "array([[0.01028665],\n",
       "       [0.00939086],\n",
       "       [0.00939086],\n",
       "       ...,\n",
       "       [0.14143028],\n",
       "       [0.14183338],\n",
       "       [0.13889221]])"
      ]
     },
     "execution_count": 15,
     "metadata": {},
     "output_type": "execute_result"
    }
   ],
   "source": [
    "df_sbi"
   ]
  },
  {
   "cell_type": "markdown",
   "metadata": {},
   "source": [
    "### Train and test split"
   ]
  },
  {
   "cell_type": "code",
   "execution_count": 17,
   "metadata": {},
   "outputs": [],
   "source": [
    "##splitting dataset into train and test split\n",
    "training_size=int(len(df_sbi)*0.7)  #70\n",
    "test_size=len(df_sbi)-training_size  #30\n",
    "train_data,test_data=df_sbi[0:training_size,:],df_sbi[training_size:len(df_sbi),:1]"
   ]
  },
  {
   "cell_type": "code",
   "execution_count": 18,
   "metadata": {},
   "outputs": [
    {
     "data": {
      "text/plain": [
       "(4770, 2045)"
      ]
     },
     "execution_count": 18,
     "metadata": {},
     "output_type": "execute_result"
    }
   ],
   "source": [
    "training_size,test_size"
   ]
  },
  {
   "cell_type": "code",
   "execution_count": 21,
   "metadata": {},
   "outputs": [],
   "source": [
    "# shows train data\n",
    "# train_data"
   ]
  },
  {
   "cell_type": "code",
   "execution_count": 26,
   "metadata": {},
   "outputs": [],
   "source": [
    "# convert an array of values into a dataset matrix\n",
    "def create_dataset(dataset, time_step=1):\n",
    "    dataX, dataY = [], []\n",
    "    for i in range(len(dataset)-time_step-1):\n",
    "        a = dataset[i:(i+time_step), 0]   ###i=0, 0,1,2,3-----99   100 \n",
    "        dataX.append(a)\n",
    "        dataY.append(dataset[i + time_step, 0])\n",
    "    return np.array(dataX), np.array(dataY)"
   ]
  },
  {
   "cell_type": "code",
   "execution_count": 27,
   "metadata": {},
   "outputs": [],
   "source": [
    "# reshape into X=t,t+1,t+2,t+3 and Y=t+4\n",
    "time_step = 100\n",
    "X_train, y_train = create_dataset(train_data, time_step)\n",
    "X_test, ytest = create_dataset(test_data, time_step)"
   ]
  },
  {
   "cell_type": "code",
   "execution_count": 28,
   "metadata": {},
   "outputs": [
    {
     "name": "stdout",
     "output_type": "stream",
     "text": [
      "(4669, 100)\n",
      "(4669,)\n"
     ]
    },
    {
     "data": {
      "text/plain": [
       "(None, None)"
      ]
     },
     "execution_count": 28,
     "metadata": {},
     "output_type": "execute_result"
    }
   ],
   "source": [
    "print(X_train.shape), print(y_train.shape)"
   ]
  },
  {
   "cell_type": "code",
   "execution_count": 29,
   "metadata": {},
   "outputs": [
    {
     "name": "stdout",
     "output_type": "stream",
     "text": [
      "(1944, 100)\n",
      "(1944,)\n"
     ]
    },
    {
     "data": {
      "text/plain": [
       "(None, None)"
      ]
     },
     "execution_count": 29,
     "metadata": {},
     "output_type": "execute_result"
    }
   ],
   "source": [
    "print(X_test.shape), print(ytest.shape)"
   ]
  },
  {
   "cell_type": "code",
   "execution_count": 30,
   "metadata": {},
   "outputs": [],
   "source": [
    "# reshape input to be [samples, time steps, features] which is required for LSTM(3-dimensions)\n",
    "X_train =X_train.reshape(X_train.shape[0],X_train.shape[1] , 1)\n",
    "X_test = X_test.reshape(X_test.shape[0],X_test.shape[1] , 1)"
   ]
  },
  {
   "cell_type": "markdown",
   "metadata": {},
   "source": [
    "### create an stacked LSTM model"
   ]
  },
  {
   "cell_type": "code",
   "execution_count": 31,
   "metadata": {},
   "outputs": [],
   "source": [
    "from tensorflow.keras.models import Sequential\n",
    "from tensorflow.keras.layers import Dense\n",
    "from tensorflow.keras.layers import LSTM"
   ]
  },
  {
   "cell_type": "code",
   "execution_count": 32,
   "metadata": {},
   "outputs": [],
   "source": [
    "model=Sequential()\n",
    "model.add(LSTM(50,return_sequences=True,input_shape=(100,1)))\n",
    "model.add(LSTM(50,return_sequences=True))\n",
    "model.add(LSTM(50))\n",
    "model.add(Dense(1))\n",
    "model.compile(loss='mean_squared_error',optimizer='adam')"
   ]
  },
  {
   "cell_type": "code",
   "execution_count": 33,
   "metadata": {},
   "outputs": [
    {
     "name": "stdout",
     "output_type": "stream",
     "text": [
      "Model: \"sequential\"\n",
      "_________________________________________________________________\n",
      " Layer (type)                Output Shape              Param #   \n",
      "=================================================================\n",
      " lstm (LSTM)                 (None, 100, 50)           10400     \n",
      "                                                                 \n",
      " lstm_1 (LSTM)               (None, 100, 50)           20200     \n",
      "                                                                 \n",
      " lstm_2 (LSTM)               (None, 50)                20200     \n",
      "                                                                 \n",
      " dense (Dense)               (None, 1)                 51        \n",
      "                                                                 \n",
      "=================================================================\n",
      "Total params: 50,851\n",
      "Trainable params: 50,851\n",
      "Non-trainable params: 0\n",
      "_________________________________________________________________\n"
     ]
    }
   ],
   "source": [
    "model.summary()"
   ]
  },
  {
   "cell_type": "code",
   "execution_count": 34,
   "metadata": {},
   "outputs": [
    {
     "name": "stdout",
     "output_type": "stream",
     "text": [
      "Epoch 1/100\n",
      "73/73 [==============================] - 19s 169ms/step - loss: 0.0080 - val_loss: 4.2686e-05\n",
      "Epoch 2/100\n",
      "73/73 [==============================] - 9s 127ms/step - loss: 7.9759e-04 - val_loss: 3.7027e-05\n",
      "Epoch 3/100\n",
      "73/73 [==============================] - 10s 135ms/step - loss: 6.9344e-04 - val_loss: 3.4716e-05\n",
      "Epoch 4/100\n",
      "73/73 [==============================] - 11s 145ms/step - loss: 5.9793e-04 - val_loss: 4.0425e-05\n",
      "Epoch 5/100\n",
      "73/73 [==============================] - 11s 150ms/step - loss: 5.4287e-04 - val_loss: 3.1375e-05\n",
      "Epoch 6/100\n",
      "73/73 [==============================] - 11s 149ms/step - loss: 5.0102e-04 - val_loss: 3.1614e-05\n",
      "Epoch 7/100\n",
      "73/73 [==============================] - 11s 145ms/step - loss: 4.7862e-04 - val_loss: 2.6398e-05\n",
      "Epoch 8/100\n",
      "73/73 [==============================] - 9s 130ms/step - loss: 4.2793e-04 - val_loss: 2.5239e-05\n",
      "Epoch 9/100\n",
      "73/73 [==============================] - 9s 125ms/step - loss: 5.1867e-04 - val_loss: 2.8222e-05\n",
      "Epoch 10/100\n",
      "73/73 [==============================] - 9s 125ms/step - loss: 4.2055e-04 - val_loss: 2.3235e-05\n",
      "Epoch 11/100\n",
      "73/73 [==============================] - 9s 126ms/step - loss: 3.9860e-04 - val_loss: 3.3724e-05\n",
      "Epoch 12/100\n",
      "73/73 [==============================] - 9s 127ms/step - loss: 4.1314e-04 - val_loss: 2.2291e-05\n",
      "Epoch 13/100\n",
      "73/73 [==============================] - 9s 126ms/step - loss: 3.2475e-04 - val_loss: 3.0967e-05\n",
      "Epoch 14/100\n",
      "73/73 [==============================] - 9s 125ms/step - loss: 3.0475e-04 - val_loss: 1.9086e-05\n",
      "Epoch 15/100\n",
      "73/73 [==============================] - 10s 133ms/step - loss: 2.7592e-04 - val_loss: 1.9728e-05\n",
      "Epoch 16/100\n",
      "73/73 [==============================] - 10s 134ms/step - loss: 3.3477e-04 - val_loss: 1.7681e-05\n",
      "Epoch 17/100\n",
      "73/73 [==============================] - 9s 128ms/step - loss: 2.6258e-04 - val_loss: 1.8888e-05\n",
      "Epoch 18/100\n",
      "73/73 [==============================] - 9s 126ms/step - loss: 2.3481e-04 - val_loss: 1.8140e-05\n",
      "Epoch 19/100\n",
      "73/73 [==============================] - 9s 126ms/step - loss: 2.0084e-04 - val_loss: 1.7229e-05\n",
      "Epoch 20/100\n",
      "73/73 [==============================] - 10s 143ms/step - loss: 2.0173e-04 - val_loss: 1.6587e-05\n",
      "Epoch 21/100\n",
      "73/73 [==============================] - 11s 147ms/step - loss: 1.7650e-04 - val_loss: 1.3698e-05\n",
      "Epoch 22/100\n",
      "73/73 [==============================] - 11s 153ms/step - loss: 1.8850e-04 - val_loss: 1.5166e-05\n",
      "Epoch 23/100\n",
      "73/73 [==============================] - 12s 160ms/step - loss: 1.6294e-04 - val_loss: 1.6184e-05\n",
      "Epoch 24/100\n",
      "73/73 [==============================] - 9s 128ms/step - loss: 1.7155e-04 - val_loss: 1.2371e-05\n",
      "Epoch 25/100\n",
      "73/73 [==============================] - 9s 126ms/step - loss: 1.5753e-04 - val_loss: 1.1835e-05\n",
      "Epoch 26/100\n",
      "73/73 [==============================] - 10s 134ms/step - loss: 1.4636e-04 - val_loss: 1.2948e-05\n",
      "Epoch 27/100\n",
      "73/73 [==============================] - 10s 137ms/step - loss: 1.4671e-04 - val_loss: 1.4463e-05\n",
      "Epoch 28/100\n",
      "73/73 [==============================] - 11s 157ms/step - loss: 1.4073e-04 - val_loss: 1.1841e-05\n",
      "Epoch 29/100\n",
      "73/73 [==============================] - 11s 150ms/step - loss: 1.3165e-04 - val_loss: 1.5621e-05\n",
      "Epoch 30/100\n",
      "73/73 [==============================] - 9s 128ms/step - loss: 1.2032e-04 - val_loss: 1.0806e-05\n",
      "Epoch 31/100\n",
      "73/73 [==============================] - 11s 148ms/step - loss: 1.7188e-04 - val_loss: 1.2511e-05\n",
      "Epoch 32/100\n",
      "73/73 [==============================] - 11s 149ms/step - loss: 1.2524e-04 - val_loss: 9.6938e-06\n",
      "Epoch 33/100\n",
      "73/73 [==============================] - 11s 149ms/step - loss: 1.0637e-04 - val_loss: 9.2160e-06\n",
      "Epoch 34/100\n",
      "73/73 [==============================] - 10s 138ms/step - loss: 1.2628e-04 - val_loss: 9.0160e-06\n",
      "Epoch 35/100\n",
      "73/73 [==============================] - 11s 146ms/step - loss: 1.2058e-04 - val_loss: 1.0042e-05\n",
      "Epoch 36/100\n",
      "73/73 [==============================] - 10s 138ms/step - loss: 1.0960e-04 - val_loss: 9.3778e-06\n",
      "Epoch 37/100\n",
      "73/73 [==============================] - 9s 128ms/step - loss: 1.1205e-04 - val_loss: 8.5877e-06\n",
      "Epoch 38/100\n",
      "73/73 [==============================] - 11s 145ms/step - loss: 1.0335e-04 - val_loss: 8.9348e-06\n",
      "Epoch 39/100\n",
      "73/73 [==============================] - 11s 150ms/step - loss: 9.9731e-05 - val_loss: 8.3932e-06\n",
      "Epoch 40/100\n",
      "73/73 [==============================] - 11s 150ms/step - loss: 1.0905e-04 - val_loss: 8.9045e-06\n",
      "Epoch 41/100\n",
      "73/73 [==============================] - 11s 151ms/step - loss: 1.0360e-04 - val_loss: 8.4063e-06\n",
      "Epoch 42/100\n",
      "73/73 [==============================] - 10s 141ms/step - loss: 1.4014e-04 - val_loss: 1.0803e-05\n",
      "Epoch 43/100\n",
      "73/73 [==============================] - 10s 137ms/step - loss: 1.1409e-04 - val_loss: 8.9343e-06\n",
      "Epoch 44/100\n",
      "73/73 [==============================] - 10s 137ms/step - loss: 1.1464e-04 - val_loss: 8.5214e-06\n",
      "Epoch 45/100\n",
      "73/73 [==============================] - 11s 155ms/step - loss: 9.7406e-05 - val_loss: 7.5327e-06\n",
      "Epoch 46/100\n",
      "73/73 [==============================] - 11s 153ms/step - loss: 1.0512e-04 - val_loss: 7.6616e-06\n",
      "Epoch 47/100\n",
      "73/73 [==============================] - 10s 139ms/step - loss: 9.5608e-05 - val_loss: 1.0444e-05\n",
      "Epoch 48/100\n",
      "73/73 [==============================] - 10s 140ms/step - loss: 1.1513e-04 - val_loss: 1.5322e-05\n",
      "Epoch 49/100\n",
      "73/73 [==============================] - 11s 153ms/step - loss: 9.3142e-05 - val_loss: 8.2261e-06\n",
      "Epoch 50/100\n",
      "73/73 [==============================] - 11s 153ms/step - loss: 9.6112e-05 - val_loss: 1.7319e-05\n",
      "Epoch 51/100\n",
      "73/73 [==============================] - 11s 149ms/step - loss: 1.0357e-04 - val_loss: 8.1437e-06\n",
      "Epoch 52/100\n",
      "73/73 [==============================] - 9s 130ms/step - loss: 1.1582e-04 - val_loss: 7.2088e-06\n",
      "Epoch 53/100\n",
      "73/73 [==============================] - 9s 128ms/step - loss: 9.8035e-05 - val_loss: 7.3638e-06\n",
      "Epoch 54/100\n",
      "73/73 [==============================] - 9s 127ms/step - loss: 1.0689e-04 - val_loss: 9.3750e-06\n",
      "Epoch 55/100\n",
      "73/73 [==============================] - 9s 126ms/step - loss: 9.5728e-05 - val_loss: 8.8094e-06\n",
      "Epoch 56/100\n",
      "73/73 [==============================] - 9s 128ms/step - loss: 9.5316e-05 - val_loss: 6.9763e-06\n",
      "Epoch 57/100\n",
      "73/73 [==============================] - 9s 127ms/step - loss: 1.1160e-04 - val_loss: 9.4156e-06\n",
      "Epoch 58/100\n",
      "73/73 [==============================] - 9s 126ms/step - loss: 1.0012e-04 - val_loss: 6.7660e-06\n",
      "Epoch 59/100\n",
      "73/73 [==============================] - 10s 136ms/step - loss: 9.3416e-05 - val_loss: 6.7049e-06\n",
      "Epoch 60/100\n",
      "73/73 [==============================] - 12s 160ms/step - loss: 9.4580e-05 - val_loss: 8.2619e-06\n",
      "Epoch 61/100\n",
      "73/73 [==============================] - 11s 147ms/step - loss: 1.0260e-04 - val_loss: 6.6150e-06\n",
      "Epoch 62/100\n",
      "73/73 [==============================] - 11s 149ms/step - loss: 9.9780e-05 - val_loss: 7.1501e-06\n",
      "Epoch 63/100\n",
      "73/73 [==============================] - 11s 153ms/step - loss: 1.1083e-04 - val_loss: 1.0630e-05\n",
      "Epoch 64/100\n",
      "73/73 [==============================] - 10s 134ms/step - loss: 1.0001e-04 - val_loss: 1.2220e-05\n",
      "Epoch 65/100\n",
      "73/73 [==============================] - 9s 126ms/step - loss: 1.1198e-04 - val_loss: 1.1386e-05\n",
      "Epoch 66/100\n",
      "73/73 [==============================] - 9s 126ms/step - loss: 1.0231e-04 - val_loss: 6.5619e-06\n",
      "Epoch 67/100\n",
      "73/73 [==============================] - 9s 128ms/step - loss: 9.3034e-05 - val_loss: 6.4652e-06\n",
      "Epoch 68/100\n",
      "73/73 [==============================] - 9s 129ms/step - loss: 1.0237e-04 - val_loss: 1.8334e-05\n",
      "Epoch 69/100\n",
      "73/73 [==============================] - 9s 128ms/step - loss: 1.1678e-04 - val_loss: 1.0428e-05\n",
      "Epoch 70/100\n",
      "73/73 [==============================] - 9s 129ms/step - loss: 9.3663e-05 - val_loss: 8.2240e-06\n",
      "Epoch 71/100\n",
      "73/73 [==============================] - 10s 133ms/step - loss: 1.1667e-04 - val_loss: 6.4363e-06\n",
      "Epoch 72/100\n",
      "73/73 [==============================] - 9s 127ms/step - loss: 1.1550e-04 - val_loss: 1.3196e-05\n",
      "Epoch 73/100\n",
      "73/73 [==============================] - 9s 127ms/step - loss: 9.2983e-05 - val_loss: 1.1593e-05\n",
      "Epoch 74/100\n",
      "73/73 [==============================] - 9s 127ms/step - loss: 1.0183e-04 - val_loss: 8.2929e-06\n",
      "Epoch 75/100\n"
     ]
    },
    {
     "name": "stdout",
     "output_type": "stream",
     "text": [
      "73/73 [==============================] - 9s 126ms/step - loss: 1.0190e-04 - val_loss: 9.6780e-06\n",
      "Epoch 76/100\n",
      "73/73 [==============================] - 9s 126ms/step - loss: 1.0835e-04 - val_loss: 6.8111e-06\n",
      "Epoch 77/100\n",
      "73/73 [==============================] - 9s 127ms/step - loss: 9.8928e-05 - val_loss: 6.6208e-06\n",
      "Epoch 78/100\n",
      "73/73 [==============================] - 9s 126ms/step - loss: 9.8140e-05 - val_loss: 6.2226e-06\n",
      "Epoch 79/100\n",
      "73/73 [==============================] - 9s 127ms/step - loss: 9.8231e-05 - val_loss: 1.0831e-05\n",
      "Epoch 80/100\n",
      "73/73 [==============================] - 9s 127ms/step - loss: 9.0239e-05 - val_loss: 6.0509e-06\n",
      "Epoch 81/100\n",
      "73/73 [==============================] - 9s 127ms/step - loss: 9.4724e-05 - val_loss: 6.3180e-06\n",
      "Epoch 82/100\n",
      "73/73 [==============================] - 9s 128ms/step - loss: 1.0129e-04 - val_loss: 5.9993e-06\n",
      "Epoch 83/100\n",
      "73/73 [==============================] - 9s 130ms/step - loss: 1.0838e-04 - val_loss: 8.0868e-06\n",
      "Epoch 84/100\n",
      "73/73 [==============================] - 9s 125ms/step - loss: 9.2753e-05 - val_loss: 6.2369e-06\n",
      "Epoch 85/100\n",
      "73/73 [==============================] - 9s 125ms/step - loss: 9.7367e-05 - val_loss: 9.7524e-06\n",
      "Epoch 86/100\n",
      "73/73 [==============================] - 9s 125ms/step - loss: 9.2587e-05 - val_loss: 5.9694e-06\n",
      "Epoch 87/100\n",
      "73/73 [==============================] - 9s 126ms/step - loss: 9.5823e-05 - val_loss: 6.0438e-06\n",
      "Epoch 88/100\n",
      "73/73 [==============================] - 9s 126ms/step - loss: 1.0904e-04 - val_loss: 7.7490e-06\n",
      "Epoch 89/100\n",
      "73/73 [==============================] - 9s 126ms/step - loss: 9.5576e-05 - val_loss: 5.9283e-06\n",
      "Epoch 90/100\n",
      "73/73 [==============================] - 9s 125ms/step - loss: 9.7782e-05 - val_loss: 7.9449e-06\n",
      "Epoch 91/100\n",
      "73/73 [==============================] - 9s 125ms/step - loss: 9.4881e-05 - val_loss: 1.2832e-05\n",
      "Epoch 92/100\n",
      "73/73 [==============================] - 9s 126ms/step - loss: 9.9854e-05 - val_loss: 6.5806e-06\n",
      "Epoch 93/100\n",
      "73/73 [==============================] - 9s 125ms/step - loss: 1.0563e-04 - val_loss: 6.2384e-06\n",
      "Epoch 94/100\n",
      "73/73 [==============================] - 9s 126ms/step - loss: 8.9855e-05 - val_loss: 7.0023e-06\n",
      "Epoch 95/100\n",
      "73/73 [==============================] - 9s 127ms/step - loss: 1.0215e-04 - val_loss: 6.3314e-06\n",
      "Epoch 96/100\n",
      "73/73 [==============================] - 9s 125ms/step - loss: 9.8689e-05 - val_loss: 1.2018e-05\n",
      "Epoch 97/100\n",
      "73/73 [==============================] - 9s 126ms/step - loss: 9.0197e-05 - val_loss: 5.8806e-06\n",
      "Epoch 98/100\n",
      "73/73 [==============================] - 9s 126ms/step - loss: 9.6588e-05 - val_loss: 8.7705e-06\n",
      "Epoch 99/100\n",
      "73/73 [==============================] - 9s 126ms/step - loss: 1.0021e-04 - val_loss: 6.0779e-06\n",
      "Epoch 100/100\n",
      "73/73 [==============================] - 9s 126ms/step - loss: 1.0254e-04 - val_loss: 1.1510e-05\n"
     ]
    },
    {
     "data": {
      "text/plain": [
       "<keras.callbacks.History at 0x176de169c40>"
      ]
     },
     "execution_count": 34,
     "metadata": {},
     "output_type": "execute_result"
    }
   ],
   "source": [
    "model.fit(X_train,y_train,validation_data=(X_test,ytest),epochs=100,batch_size=64,verbose=1)"
   ]
  },
  {
   "cell_type": "code",
   "execution_count": 35,
   "metadata": {},
   "outputs": [],
   "source": [
    "import tensorflow as tf"
   ]
  },
  {
   "cell_type": "code",
   "execution_count": 36,
   "metadata": {},
   "outputs": [],
   "source": [
    "# tf.__version__"
   ]
  },
  {
   "cell_type": "markdown",
   "metadata": {},
   "source": [
    "### predict test data and plot the output"
   ]
  },
  {
   "cell_type": "code",
   "execution_count": 37,
   "metadata": {},
   "outputs": [
    {
     "name": "stdout",
     "output_type": "stream",
     "text": [
      "146/146 [==============================] - 5s 26ms/step\n",
      "61/61 [==============================] - 1s 24ms/step\n"
     ]
    }
   ],
   "source": [
    "### Lets Do the prediction and check performance metrics\n",
    "train_predict=model.predict(X_train)\n",
    "test_predict=model.predict(X_test)"
   ]
  },
  {
   "cell_type": "code",
   "execution_count": 38,
   "metadata": {},
   "outputs": [],
   "source": [
    "# Transformback to original form\n",
    "train_predict=scaler.inverse_transform(train_predict)\n",
    "test_predict=scaler.inverse_transform(test_predict)"
   ]
  },
  {
   "cell_type": "code",
   "execution_count": 39,
   "metadata": {},
   "outputs": [
    {
     "data": {
      "text/plain": [
       "1335.7972671794362"
      ]
     },
     "execution_count": 39,
     "metadata": {},
     "output_type": "execute_result"
    }
   ],
   "source": [
    "# Calculate RMSE performance metrics\n",
    "import math\n",
    "from sklearn.metrics import mean_squared_error\n",
    "math.sqrt(mean_squared_error(y_train,train_predict))"
   ]
  },
  {
   "cell_type": "code",
   "execution_count": 40,
   "metadata": {},
   "outputs": [
    {
     "data": {
      "text/plain": [
       "316.33200135953814"
      ]
     },
     "execution_count": 40,
     "metadata": {},
     "output_type": "execute_result"
    }
   ],
   "source": [
    "# Test Data RMSE\n",
    "math.sqrt(mean_squared_error(ytest,test_predict))"
   ]
  },
  {
   "cell_type": "code",
   "execution_count": 41,
   "metadata": {},
   "outputs": [
    {
     "data": {
      "image/png": "[encoded data removed]",
      "text/plain": [
       "<Figure size 432x288 with 1 Axes>"
      ]
     },
     "metadata": {
      "needs_background": "light"
     },
     "output_type": "display_data"
    }
   ],
   "source": [
    "# Plotting \n",
    "# shift train predictions for plotting\n",
    "look_back=100\n",
    "trainPredictPlot = np.empty_like(df_sbi)\n",
    "trainPredictPlot[:, :] = np.nan\n",
    "trainPredictPlot[look_back:len(train_predict)+look_back, :] = train_predict\n",
    "# shift test predictions for plotting\n",
    "testPredictPlot = np.empty_like(df_sbi)\n",
    "testPredictPlot[:, :] = np.nan\n",
    "testPredictPlot[len(train_predict)+(look_back*2)+1:len(df_sbi)-1, :] = test_predict\n",
    "# plot baseline and predictions\n",
    "plt.plot(scaler.inverse_transform(df_sbi))\n",
    "plt.plot(trainPredictPlot)\n",
    "plt.plot(testPredictPlot)\n",
    "plt.show()"
   ]
  },
  {
   "cell_type": "markdown",
   "metadata": {},
   "source": [
    "- In Above plot:\n",
    "    - Blue ---> complete dataset\n",
    "    - orange ---> training data predicted output\n",
    "    - Green ---> Test data predicted output"
   ]
  },
  {
   "cell_type": "code",
   "execution_count": 43,
   "metadata": {},
   "outputs": [
    {
     "data": {
      "text/plain": [
       "2045"
      ]
     },
     "execution_count": 43,
     "metadata": {},
     "output_type": "execute_result"
    }
   ],
   "source": [
    "len(test_data)"
   ]
  },
  {
   "cell_type": "code",
   "execution_count": 44,
   "metadata": {},
   "outputs": [
    {
     "data": {
      "text/plain": [
       "(1, 100)"
      ]
     },
     "execution_count": 44,
     "metadata": {},
     "output_type": "execute_result"
    }
   ],
   "source": [
    "x_input=test_data[1945:].reshape(1,-1)\n",
    "x_input.shape\n"
   ]
  },
  {
   "cell_type": "code",
   "execution_count": 45,
   "metadata": {},
   "outputs": [],
   "source": [
    "# converting input data to list\n",
    "temp_input=list(x_input)\n",
    "temp_input=temp_input[0].tolist()"
   ]
  },
  {
   "cell_type": "code",
   "execution_count": 48,
   "metadata": {},
   "outputs": [],
   "source": [
    "# temp_input"
   ]
  },
  {
   "cell_type": "markdown",
   "metadata": {},
   "source": [
    "### Predict future 10 days and plot output"
   ]
  },
  {
   "cell_type": "code",
   "execution_count": 49,
   "metadata": {},
   "outputs": [
    {
     "name": "stdout",
     "output_type": "stream",
     "text": [
      "[0.13938296]\n",
      "101\n",
      "1 day input [0.08971335 0.08769782 0.09260973 0.09171394 0.09280382 0.09369961\n",
      " 0.095745   0.09668558 0.09522245 0.09711854 0.097447   0.09940281\n",
      " 0.09901463 0.10125411 0.10337414 0.10388176 0.10380711 0.10279188\n",
      " 0.10334428 0.10119439 0.10106002 0.10441923 0.10673335 0.10989848\n",
      " 0.11092864 0.11142132 0.11258585 0.11155569 0.11579576 0.11697522\n",
      " 0.11575097 0.11736339 0.11982681 0.11951329 0.11715437 0.11648253\n",
      " 0.11339206 0.1116602  0.11466109 0.11648253 0.1150642  0.11569125\n",
      " 0.11700508 0.11342192 0.11067483 0.1139146  0.11304867 0.11346671\n",
      " 0.11443715 0.11171992 0.11663183 0.11727381 0.11821439 0.11896088\n",
      " 0.11860257 0.11707973 0.12067781 0.12329053 0.12370857 0.1247238\n",
      " 0.12871006 0.12887429 0.1257241  0.12894894 0.12945655 0.12817259\n",
      " 0.12745596 0.12239474 0.12040908 0.11815467 0.11488504 0.11388474\n",
      " 0.11660197 0.11319797 0.11709466 0.11845327 0.11639295 0.11637802\n",
      " 0.11545237 0.1174679  0.11370558 0.11540758 0.12043894 0.1259779\n",
      " 0.12321589 0.1238728  0.12548522 0.12833682 0.13066587 0.13108391\n",
      " 0.12845626 0.12936698 0.13024784 0.12941176 0.13265154 0.13532398\n",
      " 0.14143028 0.14183338 0.13889221 0.13938296]\n",
      "1 day output [[0.13857116]]\n",
      "2 day input [0.08769782 0.09260973 0.09171394 0.09280382 0.09369961 0.095745\n",
      " 0.09668558 0.09522245 0.09711854 0.097447   0.09940281 0.09901463\n",
      " 0.10125411 0.10337414 0.10388176 0.10380711 0.10279188 0.10334428\n",
      " 0.10119439 0.10106002 0.10441923 0.10673335 0.10989848 0.11092864\n",
      " 0.11142132 0.11258585 0.11155569 0.11579576 0.11697522 0.11575097\n",
      " 0.11736339 0.11982681 0.11951329 0.11715437 0.11648253 0.11339206\n",
      " 0.1116602  0.11466109 0.11648253 0.1150642  0.11569125 0.11700508\n",
      " 0.11342192 0.11067483 0.1139146  0.11304867 0.11346671 0.11443715\n",
      " 0.11171992 0.11663183 0.11727381 0.11821439 0.11896088 0.11860257\n",
      " 0.11707973 0.12067781 0.12329053 0.12370857 0.1247238  0.12871006\n",
      " 0.12887429 0.1257241  0.12894894 0.12945655 0.12817259 0.12745596\n",
      " 0.12239474 0.12040908 0.11815467 0.11488504 0.11388474 0.11660197\n",
      " 0.11319797 0.11709466 0.11845327 0.11639295 0.11637802 0.11545237\n",
      " 0.1174679  0.11370558 0.11540758 0.12043894 0.1259779  0.12321589\n",
      " 0.1238728  0.12548522 0.12833682 0.13066587 0.13108391 0.12845626\n",
      " 0.12936698 0.13024784 0.12941176 0.13265154 0.13532398 0.14143028\n",
      " 0.14183338 0.13889221 0.13938296 0.13857116]\n",
      "2 day output [[0.13777438]]\n",
      "3 day input [0.09260973 0.09171394 0.09280382 0.09369961 0.095745   0.09668558\n",
      " 0.09522245 0.09711854 0.097447   0.09940281 0.09901463 0.10125411\n",
      " 0.10337414 0.10388176 0.10380711 0.10279188 0.10334428 0.10119439\n",
      " 0.10106002 0.10441923 0.10673335 0.10989848 0.11092864 0.11142132\n",
      " 0.11258585 0.11155569 0.11579576 0.11697522 0.11575097 0.11736339\n",
      " 0.11982681 0.11951329 0.11715437 0.11648253 0.11339206 0.1116602\n",
      " 0.11466109 0.11648253 0.1150642  0.11569125 0.11700508 0.11342192\n",
      " 0.11067483 0.1139146  0.11304867 0.11346671 0.11443715 0.11171992\n",
      " 0.11663183 0.11727381 0.11821439 0.11896088 0.11860257 0.11707973\n",
      " 0.12067781 0.12329053 0.12370857 0.1247238  0.12871006 0.12887429\n",
      " 0.1257241  0.12894894 0.12945655 0.12817259 0.12745596 0.12239474\n",
      " 0.12040908 0.11815467 0.11488504 0.11388474 0.11660197 0.11319797\n",
      " 0.11709466 0.11845327 0.11639295 0.11637802 0.11545237 0.1174679\n",
      " 0.11370558 0.11540758 0.12043894 0.1259779  0.12321589 0.1238728\n",
      " 0.12548522 0.12833682 0.13066587 0.13108391 0.12845626 0.12936698\n",
      " 0.13024784 0.12941176 0.13265154 0.13532398 0.14143028 0.14183338\n",
      " 0.13889221 0.13938296 0.13857116 0.13777438]\n",
      "3 day output [[0.13701116]]\n",
      "4 day input [0.09171394 0.09280382 0.09369961 0.095745   0.09668558 0.09522245\n",
      " 0.09711854 0.097447   0.09940281 0.09901463 0.10125411 0.10337414\n",
      " 0.10388176 0.10380711 0.10279188 0.10334428 0.10119439 0.10106002\n",
      " 0.10441923 0.10673335 0.10989848 0.11092864 0.11142132 0.11258585\n",
      " 0.11155569 0.11579576 0.11697522 0.11575097 0.11736339 0.11982681\n",
      " 0.11951329 0.11715437 0.11648253 0.11339206 0.1116602  0.11466109\n",
      " 0.11648253 0.1150642  0.11569125 0.11700508 0.11342192 0.11067483\n",
      " 0.1139146  0.11304867 0.11346671 0.11443715 0.11171992 0.11663183\n",
      " 0.11727381 0.11821439 0.11896088 0.11860257 0.11707973 0.12067781\n",
      " 0.12329053 0.12370857 0.1247238  0.12871006 0.12887429 0.1257241\n",
      " 0.12894894 0.12945655 0.12817259 0.12745596 0.12239474 0.12040908\n",
      " 0.11815467 0.11488504 0.11388474 0.11660197 0.11319797 0.11709466\n",
      " 0.11845327 0.11639295 0.11637802 0.11545237 0.1174679  0.11370558\n",
      " 0.11540758 0.12043894 0.1259779  0.12321589 0.1238728  0.12548522\n",
      " 0.12833682 0.13066587 0.13108391 0.12845626 0.12936698 0.13024784\n",
      " 0.12941176 0.13265154 0.13532398 0.14143028 0.14183338 0.13889221\n",
      " 0.13938296 0.13857116 0.13777438 0.13701116]\n",
      "4 day output [[0.13630292]]\n",
      "5 day input [0.09280382 0.09369961 0.095745   0.09668558 0.09522245 0.09711854\n",
      " 0.097447   0.09940281 0.09901463 0.10125411 0.10337414 0.10388176\n",
      " 0.10380711 0.10279188 0.10334428 0.10119439 0.10106002 0.10441923\n",
      " 0.10673335 0.10989848 0.11092864 0.11142132 0.11258585 0.11155569\n",
      " 0.11579576 0.11697522 0.11575097 0.11736339 0.11982681 0.11951329\n",
      " 0.11715437 0.11648253 0.11339206 0.1116602  0.11466109 0.11648253\n",
      " 0.1150642  0.11569125 0.11700508 0.11342192 0.11067483 0.1139146\n",
      " 0.11304867 0.11346671 0.11443715 0.11171992 0.11663183 0.11727381\n",
      " 0.11821439 0.11896088 0.11860257 0.11707973 0.12067781 0.12329053\n",
      " 0.12370857 0.1247238  0.12871006 0.12887429 0.1257241  0.12894894\n",
      " 0.12945655 0.12817259 0.12745596 0.12239474 0.12040908 0.11815467\n",
      " 0.11488504 0.11388474 0.11660197 0.11319797 0.11709466 0.11845327\n",
      " 0.11639295 0.11637802 0.11545237 0.1174679  0.11370558 0.11540758\n",
      " 0.12043894 0.1259779  0.12321589 0.1238728  0.12548522 0.12833682\n",
      " 0.13066587 0.13108391 0.12845626 0.12936698 0.13024784 0.12941176\n",
      " 0.13265154 0.13532398 0.14143028 0.14183338 0.13889221 0.13938296\n",
      " 0.13857116 0.13777438 0.13701116 0.13630292]\n",
      "5 day output [[0.13565017]]\n",
      "6 day input [0.09369961 0.095745   0.09668558 0.09522245 0.09711854 0.097447\n",
      " 0.09940281 0.09901463 0.10125411 0.10337414 0.10388176 0.10380711\n",
      " 0.10279188 0.10334428 0.10119439 0.10106002 0.10441923 0.10673335\n",
      " 0.10989848 0.11092864 0.11142132 0.11258585 0.11155569 0.11579576\n",
      " 0.11697522 0.11575097 0.11736339 0.11982681 0.11951329 0.11715437\n",
      " 0.11648253 0.11339206 0.1116602  0.11466109 0.11648253 0.1150642\n",
      " 0.11569125 0.11700508 0.11342192 0.11067483 0.1139146  0.11304867\n",
      " 0.11346671 0.11443715 0.11171992 0.11663183 0.11727381 0.11821439\n",
      " 0.11896088 0.11860257 0.11707973 0.12067781 0.12329053 0.12370857\n",
      " 0.1247238  0.12871006 0.12887429 0.1257241  0.12894894 0.12945655\n",
      " 0.12817259 0.12745596 0.12239474 0.12040908 0.11815467 0.11488504\n",
      " 0.11388474 0.11660197 0.11319797 0.11709466 0.11845327 0.11639295\n",
      " 0.11637802 0.11545237 0.1174679  0.11370558 0.11540758 0.12043894\n",
      " 0.1259779  0.12321589 0.1238728  0.12548522 0.12833682 0.13066587\n",
      " 0.13108391 0.12845626 0.12936698 0.13024784 0.12941176 0.13265154\n",
      " 0.13532398 0.14143028 0.14183338 0.13889221 0.13938296 0.13857116\n",
      " 0.13777438 0.13701116 0.13630292 0.13565017]\n",
      "6 day output [[0.13503921]]\n",
      "7 day input [0.095745   0.09668558 0.09522245 0.09711854 0.097447   0.09940281\n",
      " 0.09901463 0.10125411 0.10337414 0.10388176 0.10380711 0.10279188\n",
      " 0.10334428 0.10119439 0.10106002 0.10441923 0.10673335 0.10989848\n",
      " 0.11092864 0.11142132 0.11258585 0.11155569 0.11579576 0.11697522\n",
      " 0.11575097 0.11736339 0.11982681 0.11951329 0.11715437 0.11648253\n",
      " 0.11339206 0.1116602  0.11466109 0.11648253 0.1150642  0.11569125\n",
      " 0.11700508 0.11342192 0.11067483 0.1139146  0.11304867 0.11346671\n",
      " 0.11443715 0.11171992 0.11663183 0.11727381 0.11821439 0.11896088\n",
      " 0.11860257 0.11707973 0.12067781 0.12329053 0.12370857 0.1247238\n",
      " 0.12871006 0.12887429 0.1257241  0.12894894 0.12945655 0.12817259\n",
      " 0.12745596 0.12239474 0.12040908 0.11815467 0.11488504 0.11388474\n",
      " 0.11660197 0.11319797 0.11709466 0.11845327 0.11639295 0.11637802\n",
      " 0.11545237 0.1174679  0.11370558 0.11540758 0.12043894 0.1259779\n",
      " 0.12321589 0.1238728  0.12548522 0.12833682 0.13066587 0.13108391\n",
      " 0.12845626 0.12936698 0.13024784 0.12941176 0.13265154 0.13532398\n",
      " 0.14143028 0.14183338 0.13889221 0.13938296 0.13857116 0.13777438\n",
      " 0.13701116 0.13630292 0.13565017 0.13503921]\n",
      "7 day output [[0.13445117]]\n",
      "8 day input [0.09668558 0.09522245 0.09711854 0.097447   0.09940281 0.09901463\n",
      " 0.10125411 0.10337414 0.10388176 0.10380711 0.10279188 0.10334428\n",
      " 0.10119439 0.10106002 0.10441923 0.10673335 0.10989848 0.11092864\n",
      " 0.11142132 0.11258585 0.11155569 0.11579576 0.11697522 0.11575097\n",
      " 0.11736339 0.11982681 0.11951329 0.11715437 0.11648253 0.11339206\n",
      " 0.1116602  0.11466109 0.11648253 0.1150642  0.11569125 0.11700508\n",
      " 0.11342192 0.11067483 0.1139146  0.11304867 0.11346671 0.11443715\n",
      " 0.11171992 0.11663183 0.11727381 0.11821439 0.11896088 0.11860257\n",
      " 0.11707973 0.12067781 0.12329053 0.12370857 0.1247238  0.12871006\n",
      " 0.12887429 0.1257241  0.12894894 0.12945655 0.12817259 0.12745596\n",
      " 0.12239474 0.12040908 0.11815467 0.11488504 0.11388474 0.11660197\n",
      " 0.11319797 0.11709466 0.11845327 0.11639295 0.11637802 0.11545237\n",
      " 0.1174679  0.11370558 0.11540758 0.12043894 0.1259779  0.12321589\n",
      " 0.1238728  0.12548522 0.12833682 0.13066587 0.13108391 0.12845626\n",
      " 0.12936698 0.13024784 0.12941176 0.13265154 0.13532398 0.14143028\n",
      " 0.14183338 0.13889221 0.13938296 0.13857116 0.13777438 0.13701116\n",
      " 0.13630292 0.13565017 0.13503921 0.13445117]\n"
     ]
    },
    {
     "name": "stdout",
     "output_type": "stream",
     "text": [
      "8 day output [[0.1338685]]\n",
      "9 day input [0.09522245 0.09711854 0.097447   0.09940281 0.09901463 0.10125411\n",
      " 0.10337414 0.10388176 0.10380711 0.10279188 0.10334428 0.10119439\n",
      " 0.10106002 0.10441923 0.10673335 0.10989848 0.11092864 0.11142132\n",
      " 0.11258585 0.11155569 0.11579576 0.11697522 0.11575097 0.11736339\n",
      " 0.11982681 0.11951329 0.11715437 0.11648253 0.11339206 0.1116602\n",
      " 0.11466109 0.11648253 0.1150642  0.11569125 0.11700508 0.11342192\n",
      " 0.11067483 0.1139146  0.11304867 0.11346671 0.11443715 0.11171992\n",
      " 0.11663183 0.11727381 0.11821439 0.11896088 0.11860257 0.11707973\n",
      " 0.12067781 0.12329053 0.12370857 0.1247238  0.12871006 0.12887429\n",
      " 0.1257241  0.12894894 0.12945655 0.12817259 0.12745596 0.12239474\n",
      " 0.12040908 0.11815467 0.11488504 0.11388474 0.11660197 0.11319797\n",
      " 0.11709466 0.11845327 0.11639295 0.11637802 0.11545237 0.1174679\n",
      " 0.11370558 0.11540758 0.12043894 0.1259779  0.12321589 0.1238728\n",
      " 0.12548522 0.12833682 0.13066587 0.13108391 0.12845626 0.12936698\n",
      " 0.13024784 0.12941176 0.13265154 0.13532398 0.14143028 0.14183338\n",
      " 0.13889221 0.13938296 0.13857116 0.13777438 0.13701116 0.13630292\n",
      " 0.13565017 0.13503921 0.13445117 0.1338685 ]\n",
      "9 day output [[0.13327794]]\n",
      "[[0.1393829584121704], [0.13857115805149078], [0.13777437806129456], [0.13701115548610687], [0.1363029181957245], [0.135650172829628], [0.13503921031951904], [0.13445116579532623], [0.1338685005903244], [0.13327793776988983]]\n"
     ]
    }
   ],
   "source": [
    "# demonstrate prediction for next 10 days\n",
    "from numpy import array\n",
    "\n",
    "lst_output=[]\n",
    "n_steps=100\n",
    "i=0\n",
    "while(i<10):\n",
    "    \n",
    "    if(len(temp_input)>100):\n",
    "        #print(temp_input)\n",
    "        x_input=np.array(temp_input[1:])\n",
    "        print(\"{} day input {}\".format(i,x_input))\n",
    "        x_input=x_input.reshape(1,-1)\n",
    "        x_input = x_input.reshape((1, n_steps, 1))\n",
    "        #print(x_input)\n",
    "        yhat = model.predict(x_input, verbose=0)\n",
    "        print(\"{} day output {}\".format(i,yhat))\n",
    "        temp_input.extend(yhat[0].tolist())\n",
    "        temp_input=temp_input[1:]\n",
    "        #print(temp_input)\n",
    "        lst_output.extend(yhat.tolist())\n",
    "        i=i+1\n",
    "    else:\n",
    "        x_input = x_input.reshape((1, n_steps,1))\n",
    "        yhat = model.predict(x_input, verbose=0)\n",
    "        print(yhat[0])\n",
    "        temp_input.extend(yhat[0].tolist())\n",
    "        print(len(temp_input))\n",
    "        lst_output.extend(yhat.tolist())\n",
    "        i=i+1\n",
    "    \n",
    "\n",
    "print(lst_output)"
   ]
  },
  {
   "cell_type": "code",
   "execution_count": 50,
   "metadata": {},
   "outputs": [],
   "source": [
    "day_new=np.arange(1,101)\n",
    "day_pred=np.arange(101,111)"
   ]
  },
  {
   "cell_type": "code",
   "execution_count": 51,
   "metadata": {},
   "outputs": [],
   "source": [
    "import matplotlib.pyplot as plt"
   ]
  },
  {
   "cell_type": "code",
   "execution_count": 54,
   "metadata": {},
   "outputs": [
    {
     "data": {
      "text/plain": [
       "6815"
      ]
     },
     "execution_count": 54,
     "metadata": {},
     "output_type": "execute_result"
    }
   ],
   "source": [
    "len(df_sbi)"
   ]
  },
  {
   "cell_type": "code",
   "execution_count": 56,
   "metadata": {},
   "outputs": [
    {
     "data": {
      "text/plain": [
       "[<matplotlib.lines.Line2D at 0x176eb1c23a0>]"
      ]
     },
     "execution_count": 56,
     "metadata": {},
     "output_type": "execute_result"
    },
    {
     "data": {
      "image/png": "[encoded data removed]",
      "text/plain": [
       "<Figure size 432x288 with 1 Axes>"
      ]
     },
     "metadata": {
      "needs_background": "light"
     },
     "output_type": "display_data"
    }
   ],
   "source": [
    "# plotting next 10 days prediction\n",
    "plt.plot(day_new,scaler.inverse_transform(df_sbi[6715:]))\n",
    "plt.plot(day_pred,scaler.inverse_transform(lst_output))"
   ]
  },
  {
   "cell_type": "code",
   "execution_count": 62,
   "metadata": {},
   "outputs": [
    {
     "data": {
      "text/plain": [
       "[<matplotlib.lines.Line2D at 0x176e5547d00>]"
      ]
     },
     "execution_count": 62,
     "metadata": {},
     "output_type": "execute_result"
    },
    {
     "data": {
      "image/png": "[encoded data removed]",
      "text/plain": [
       "<Figure size 432x288 with 1 Axes>"
      ]
     },
     "metadata": {
      "needs_background": "light"
     },
     "output_type": "display_data"
    }
   ],
   "source": [
    "# combining prediction with original df \n",
    "# to see the clear prediction plot\n",
    "df2_sbi=df_sbi.tolist()\n",
    "df2_sbi.extend(lst_output)\n",
    "plt.plot(df2_sbi[6800:])"
   ]
  },
  {
   "cell_type": "code",
   "execution_count": 63,
   "metadata": {},
   "outputs": [],
   "source": [
    "df2_sbi=scaler.inverse_transform(df2_sbi).tolist()"
   ]
  },
  {
   "cell_type": "code",
   "execution_count": 64,
   "metadata": {},
   "outputs": [
    {
     "data": {
      "text/plain": [
       "[<matplotlib.lines.Line2D at 0x176eb205880>]"
      ]
     },
     "execution_count": 64,
     "metadata": {},
     "output_type": "execute_result"
    },
    {
     "data": {
      "image/png": "[encoded data removed]",
      "text/plain": [
       "<Figure size 432x288 with 1 Axes>"
      ]
     },
     "metadata": {
      "needs_background": "light"
     },
     "output_type": "display_data"
    }
   ],
   "source": [
    "plt.plot(df2_sbi)"
   ]
  },
  {
   "cell_type": "code",
   "execution_count": null,
   "metadata": {},
   "outputs": [],
   "source": []
  },
  {
   "cell_type": "markdown",
   "metadata": {},
   "source": [
    "### Improvements can be:\n",
    "- for increasing accuracy increase the timesteps value \n",
    "- try to predict for next 100 days and see the output\n",
    "- use bidirectional LSTM for more accuracy"
   ]
  },
  {
   "cell_type": "code",
   "execution_count": null,
   "metadata": {},
   "outputs": [],
   "source": []
  }
 ],
 "metadata": {
  "kernelspec": {
   "display_name": "Python 3 (ipykernel)",
   "language": "python",
   "name": "python3"
  },
  "language_info": {
   "codemirror_mode": {
    "name": "ipython",
    "version": 3
   },
   "file_extension": ".py",
   "mimetype": "text/x-python",
   "name": "python",
   "nbconvert_exporter": "python",
   "pygments_lexer": "ipython3",
   "version": "3.9.12"
  }
 },
 "nbformat": 4,
 "nbformat_minor": 2
}
